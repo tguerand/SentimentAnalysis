{
  "nbformat": 4,
  "nbformat_minor": 0,
  "metadata": {
    "colab": {
      "name": "NLP.ipynb",
      "provenance": [],
      "collapsed_sections": [],
      "toc_visible": true,
      "include_colab_link": true
    },
    "kernelspec": {
      "name": "python3",
      "display_name": "Python 3"
    }
  },
  "cells": [
    {
      "cell_type": "markdown",
      "metadata": {
        "id": "view-in-github",
        "colab_type": "text"
      },
      "source": [
        "<a href=\"https://colab.research.google.com/github/tguerand/SentimentAnalysis/blob/master/bin/data_viz.ipynb\" target=\"_parent\"><img src=\"https://colab.research.google.com/assets/colab-badge.svg\" alt=\"Open In Colab\"/></a>"
      ]
    },
    {
      "cell_type": "markdown",
      "metadata": {
        "id": "WtxPeEmpHIhN"
      },
      "source": [
        "#Access Path"
      ]
    },
    {
      "cell_type": "code",
      "metadata": {
        "id": "5Jvss1dNHRJZ",
        "outputId": "2609683a-95fa-4f69-e317-5ffbdd5e78f1",
        "colab": {
          "base_uri": "https://localhost:8080/",
          "height": 36
        }
      },
      "source": [
        "cd /content/drive/My\\ Drive/Colab\\ Projects/SentimentAnalysis/data/"
      ],
      "execution_count": null,
      "outputs": [
        {
          "output_type": "stream",
          "text": [
            "/content/drive/My Drive/Colab Projects/SentimentAnalysis/data\n"
          ],
          "name": "stdout"
        }
      ]
    },
    {
      "cell_type": "markdown",
      "metadata": {
        "id": "zFZIYimCA6M2"
      },
      "source": [
        "# Import Libraries"
      ]
    },
    {
      "cell_type": "code",
      "metadata": {
        "id": "Z8sgvTGdAmBB"
      },
      "source": [
        "import numpy as np\n",
        "import pandas as pd\n",
        "\n"
      ],
      "execution_count": null,
      "outputs": []
    },
    {
      "cell_type": "markdown",
      "metadata": {
        "id": "2kU1Tz6zHrz8"
      },
      "source": [
        "#Import Data"
      ]
    },
    {
      "cell_type": "code",
      "metadata": {
        "id": "X4I52KdZHzCa"
      },
      "source": [
        "df=pd.read_csv(\"training.csv\",encoding='latin-1')\n",
        "df.columns=['target', 't_id', 'created_at', 'query', 'user', 'text']\n",
        "df.head()"
      ],
      "execution_count": null,
      "outputs": []
    },
    {
      "cell_type": "code",
      "metadata": {
        "id": "8x8xZaI1BBTL",
        "outputId": "7d6b3009-e431-4ed0-aaef-f209244dddff",
        "colab": {
          "base_uri": "https://localhost:8080/",
          "height": 1000
        }
      },
      "source": [
        "print(df[\"text\"].head(100).to_string())"
      ],
      "execution_count": null,
      "outputs": [
        {
          "output_type": "stream",
          "text": [
            "0     is upset that he can't update his Facebook by ...\n",
            "1     @Kenichan I dived many times for the ball. Man...\n",
            "2       my whole body feels itchy and like its on fire \n",
            "3     @nationwideclass no, it's not behaving at all....\n",
            "4                         @Kwesidei not the whole crew \n",
            "5                                           Need a hug \n",
            "6     @LOLTrish hey  long time no see! Yes.. Rains a...\n",
            "7                  @Tatiana_K nope they didn't have it \n",
            "8                             @twittera que me muera ? \n",
            "9           spring break in plain city... it's snowing \n",
            "10                           I just re-pierced my ears \n",
            "11    @caregiving I couldn't bear to watch it.  And ...\n",
            "12    @octolinz16 It it counts, idk why I did either...\n",
            "13    @smarrison i would've been the first, but i di...\n",
            "14    @iamjazzyfizzle I wish I got to watch it with ...\n",
            "15    Hollis' death scene will hurt me severely to w...\n",
            "16                                 about to file taxes \n",
            "17    @LettyA ahh ive always wanted to see rent  lov...\n",
            "18    @FakerPattyPattz Oh dear. Were you drinking ou...\n",
            "19    @alydesigns i was out most of the day so didn'...\n",
            "20    one of my friend called me, and asked to meet ...\n",
            "21     @angry_barista I baked you a cake but I ated it \n",
            "22               this week is not going as i had hoped \n",
            "23                           blagh class at 8 tomorrow \n",
            "24       I hate when I have to call and wake people up \n",
            "25    Just going to cry myself to sleep after watchi...\n",
            "26                               im sad now  Miss.Lilly\n",
            "27    ooooh.... LOL  that leslie.... and ok I won't ...\n",
            "28    Meh... Almost Lover is the exception... this t...\n",
            "29    some1 hacked my account on aim  now i have to ...\n",
            "30    @alielayus I want to go to promote GEAR AND GR...\n",
            "31    thought sleeping in was an option tomorrow but...\n",
            "32    @julieebaby awe i love you too!!!! 1 am here  ...\n",
            "33    @HumpNinja I cry my asian eyes to sleep at night \n",
            "34    ok I'm sick and spent an hour sitting in the s...\n",
            "35    @cocomix04 ill tell ya the story later  not a ...\n",
            "36    @MissXu sorry! bed time came here (GMT+1)   ht...\n",
            "37    @fleurylis I don't either. Its depressing. I d...\n",
            "38    Bed. Class 8-12. Work 12-3. Gym 3-5 or 6. Then...\n",
            "39    really don't feel like getting up today... but...\n",
            "40    He's the reason for the teardrops on my guitar...\n",
            "41    Sad, sad, sad. I don't know why but I hate thi...\n",
            "42    @JonathanRKnight Awww I soo wish I was there t...\n",
            "43    Falling asleep. Just heard about that Tracy gi...\n",
            "44    @Viennah Yay! I'm happy for you with your job!...\n",
            "45    Just checked my user timeline on my blackberry...\n",
            "46    Oh man...was ironing @jeancjumbe's fave top to...\n",
            "47    is strangely sad about LiLo and SamRo breaking...\n",
            "48    @tea oh! i'm so sorry  i didn't think about th...\n",
            "49    Broadband plan 'a massive broken promise' http...\n",
            "50    @localtweeps Wow, tons of replies from you, ma...\n",
            "51    our duck and chicken are taking wayyy too long...\n",
            "52    Put vacation photos online a few yrs ago. PC c...\n",
            "53                                        I need a hug \n",
            "54    @andywana Not sure what they are, only that th...\n",
            "55               @oanhLove I hate when that happens... \n",
            "56    I have a sad feeling that Dallas is not going ...\n",
            "57                          Ugh....92 degrees tomorrow \n",
            "58    Where did u move to?  I thought u were already...\n",
            "59    @BatManYNG I miss my ps3, it's out of commissi...\n",
            "60               just leaving the parking lot of work! \n",
            "61                   The Life is cool. But not for Me. \n",
            "62    Sadly though, I've never gotten to experience ...\n",
            "63    I had such a nice day. Too bad the rain comes ...\n",
            "64    @Starrbby too bad I won't be around I lost my ...\n",
            "65                        Damm back to school tomorrow \n",
            "66    Mo jobs, no money.  how in the hell is min wag...\n",
            "67              @katortiz  Not forever... See you soon!\n",
            "68    @Lt_Algonquin agreed, I saw the failwhale alll...\n",
            "69    @jdarter Oh! Haha... dude I dont really look a...\n",
            "70    @ninjen I'm sure you're right...    I need to ...\n",
            "71    i really hate how people diss my bands!  Trace...\n",
            "72    Gym attire today was: Puma singlet, Adidas sho...\n",
            "73    Why won't you show my location?!   http://twit...\n",
            "74              No picnic  my phone smells like citrus.\n",
            "75    @ashleyac My donkey is sensitive about such co...\n",
            "76                             No new csi tonight.  FML\n",
            "77                i think my arms are sore from tennis \n",
            "78    wonders why someone that u like so much can ma...\n",
            "79    sleep soon... i just hate saying bye and see y...\n",
            "80    @statravelAU just got ur newsletter, those far...\n",
            "81                                     missin' the boo \n",
            "82                          @markhardy1974 Me too  #itm\n",
            "83    Damn... I don't have any chalk! MY CHALKBOARD ...\n",
            "84    had a blast at the Getty Villa, but hates that...\n",
            "85      @msdrama hey missed ya at the meeting  sup mama\n",
            "86    My tummy hurts.  I wonder if the hypnosis has ...\n",
            "87                     why is it always the fat ones?! \n",
            "88    @januarycrimson Sorry, babe!!  My fam annoys m...\n",
            "89    @Hollywoodheat I should have paid more attenti...\n",
            "90          wednesday my b-day! don't know what 2 do!! \n",
            "91                            Poor cameron (the hills) \n",
            "92    pray for me please, the ex is threatening to s...\n",
            "93    @makeherfamous hmm  , do u really enjoy being ...\n",
            "94    Strider is a sick little puppy  http://apps.fa...\n",
            "95    so rylee,grace...wana go steve's party or not?...\n",
            "96    hey, I actually won one of my bracket pools! T...\n",
            "97    @stark YOU don't follow me, either  and i work...\n",
            "98    A bad nite for the favorite teams: Astros and ...\n",
            "99     Body Of Missing Northern Calif. Girl Found: P...\n"
          ],
          "name": "stdout"
        }
      ]
    },
    {
      "cell_type": "code",
      "metadata": {
        "id": "J6Z9q775GniX"
      },
      "source": [
        ""
      ],
      "execution_count": null,
      "outputs": []
    },
    {
      "cell_type": "code",
      "metadata": {
        "id": "2Ju_bj2yChFT"
      },
      "source": [
        ""
      ],
      "execution_count": null,
      "outputs": []
    },
    {
      "cell_type": "code",
      "metadata": {
        "id": "b_YGs2voGUb3"
      },
      "source": [
        ""
      ],
      "execution_count": null,
      "outputs": []
    }
  ]
}