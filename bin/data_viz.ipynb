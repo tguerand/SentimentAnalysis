{
  "nbformat": 4,
  "nbformat_minor": 0,
  "metadata": {
    "colab": {
      "name": "data_viz.ipynb",
      "provenance": [],
      "collapsed_sections": [],
      "toc_visible": true,
      "include_colab_link": true
    },
    "kernelspec": {
      "name": "python3",
      "display_name": "Python 3"
    },
    "accelerator": "GPU"
  },
  "cells": [
    {
      "cell_type": "markdown",
      "metadata": {
        "id": "view-in-github",
        "colab_type": "text"
      },
      "source": [
        "<a href=\"https://colab.research.google.com/github/tguerand/SentimentAnalysis/blob/master/bin/data_viz.ipynb\" target=\"_parent\"><img src=\"https://colab.research.google.com/assets/colab-badge.svg\" alt=\"Open In Colab\"/></a>"
      ]
    },
    {
      "cell_type": "markdown",
      "metadata": {
        "id": "zFZIYimCA6M2"
      },
      "source": [
        "# Import Libraries"
      ]
    },
    {
      "cell_type": "code",
      "metadata": {
        "id": "Z8sgvTGdAmBB",
        "outputId": "32991cec-0a6f-41a9-b17f-343adb333798",
        "colab": {
          "base_uri": "https://localhost:8080/",
          "height": 35
        }
      },
      "source": [
        "import numpy as np\n",
        "import pandas as pd\n",
        "import tensorflow as tf\n",
        "from tensorflow import keras\n",
        "from keras.preprocessing.text import Tokenizer\n",
        "from tensorflow.keras.preprocessing.sequence import pad_sequences\n",
        "import os\n",
        "import urllib.request\n",
        "from sklearn.model_selection import train_test_split\n",
        "print(\"Tensorflow version is :\", tf.__version__)"
      ],
      "execution_count": 1,
      "outputs": [
        {
          "output_type": "stream",
          "text": [
            "Tensorflow version is : 2.3.0\n"
          ],
          "name": "stdout"
        }
      ]
    },
    {
      "cell_type": "markdown",
      "metadata": {
        "id": "WtxPeEmpHIhN"
      },
      "source": [
        "#Access Path"
      ]
    },
    {
      "cell_type": "code",
      "metadata": {
        "id": "mrACEbjWR4kT",
        "outputId": "ef32a2e3-7dec-496f-a76b-40599ff17d89",
        "colab": {
          "base_uri": "https://localhost:8080/",
          "height": 199
        }
      },
      "source": [
        "!git clone https://github.com/tguerand/SentimentAnalysis\n",
        "os.mkdir(\"./SentimentAnalysis/DATA\")\n",
        "#Download file\n",
        "!gdown --id 1dO4aubOro159awBPzD675c22qtXMOVp0 --output ./SentimentAnalysis/DATA/training.csv"
      ],
      "execution_count": 2,
      "outputs": [
        {
          "output_type": "stream",
          "text": [
            "Cloning into 'SentimentAnalysis'...\n",
            "remote: Enumerating objects: 83, done.\u001b[K\n",
            "remote: Counting objects: 100% (83/83), done.\u001b[K\n",
            "remote: Compressing objects: 100% (71/71), done.\u001b[K\n",
            "remote: Total 83 (delta 30), reused 21 (delta 3), pack-reused 0\u001b[K\n",
            "Unpacking objects: 100% (83/83), done.\n",
            "Downloading...\n",
            "From: https://drive.google.com/uc?id=1dO4aubOro159awBPzD675c22qtXMOVp0\n",
            "To: /content/SentimentAnalysis/DATA/training.csv\n",
            "239MB [00:02, 81.7MB/s]\n"
          ],
          "name": "stdout"
        }
      ]
    },
    {
      "cell_type": "code",
      "metadata": {
        "id": "CLroE9p2rrSs"
      },
      "source": [
        "from SentimentAnalysis.bin import model"
      ],
      "execution_count": 3,
      "outputs": []
    },
    {
      "cell_type": "markdown",
      "metadata": {
        "id": "2kU1Tz6zHrz8"
      },
      "source": [
        "#Import Data"
      ]
    },
    {
      "cell_type": "code",
      "metadata": {
        "id": "X4I52KdZHzCa"
      },
      "source": [
        "df=pd.read_csv(\"./SentimentAnalysis/DATA/training.csv\",encoding='latin-1')\n",
        "df.columns=['target', 't_id', 'created_at', 'query', 'user', 'text']\n",
        "#df.head()"
      ],
      "execution_count": 4,
      "outputs": []
    },
    {
      "cell_type": "code",
      "metadata": {
        "id": "8x8xZaI1BBTL",
        "outputId": "728e24be-c375-4e6d-a209-df973c4913d5",
        "colab": {
          "base_uri": "https://localhost:8080/",
          "height": 110
        }
      },
      "source": [
        "print(df[\"text\"].head(5).to_string())"
      ],
      "execution_count": null,
      "outputs": [
        {
          "output_type": "stream",
          "text": [
            "0    is upset that he can't update his Facebook by ...\n",
            "1    @Kenichan I dived many times for the ball. Man...\n",
            "2      my whole body feels itchy and like its on fire \n",
            "3    @nationwideclass no, it's not behaving at all....\n",
            "4                        @Kwesidei not the whole crew \n"
          ],
          "name": "stdout"
        }
      ]
    },
    {
      "cell_type": "markdown",
      "metadata": {
        "id": "CcNf4231eSZx"
      },
      "source": [
        "#Data Analysis"
      ]
    },
    {
      "cell_type": "markdown",
      "metadata": {
        "id": "GLyxEimZc357"
      },
      "source": [
        "#### Data preparation"
      ]
    },
    {
      "cell_type": "code",
      "metadata": {
        "id": "HLB8t79uj1Gk"
      },
      "source": [
        "#code Micka\n",
        "\n",
        "df[\"nbhash\"]=df[\"text\"].str.count(\"#\")>0\n",
        "df[\"nbat\"]=df[\"text\"].str.count(\"@\")>0\n",
        "import re\n",
        "df[\"text\"] = df[\"text\"].apply(lambda x : re.sub('@[a-zA-Z0-9]+', 'ààà', x))\n",
        "df[\"text\"] = df[\"text\"].apply(lambda x : re.sub('http://[a-zA-Z0-9]+', 'urlofsite', x))\n",
        "df[\"text\"] = df[\"text\"].apply(lambda x : re.sub('www.[a-zA-Z0-9]+', 'urlofsite', x))\n",
        "df[\"text\"] = df[\"text\"].apply(lambda x : x.replace(\"!\",\" exclamationmark \"))\n",
        "df[\"text\"] = df[\"text\"].apply(lambda x : x.replace(\"?\",\" questionmark \"))\n",
        "df[\"text\"] = df[\"text\"].apply(lambda x : x.replace(\"&lt;3\",\" loveemoji \"))\n",
        "df[\"text\"] = df[\"text\"].apply(lambda x : x.replace(\":)\",\" smileemoji \"))\n",
        "df[\"text\"] = df[\"text\"].apply(lambda x : x.replace(\": )\",\" smileemoji \"))\n",
        "df[\"text\"] = df[\"text\"].apply(lambda x : x.replace(\":'(\",\" cryemoji \"))\n",
        "df[\"text\"] = df[\"text\"].apply(lambda x : x.replace(\";)\",\" winkemoji \"))\n",
        "df[\"text\"] = df[\"text\"].apply(lambda x : x.replace(\":/\",\" mehemoji \"))\n",
        "df[\"text\"] = df[\"text\"].apply(lambda x : x.replace(\"w/o\",\" without \"))\n",
        "df[\"text\"] = df[\"text\"].apply(lambda x : x.replace(\"b/c\",\" because \"))\n",
        "df[\"text\"] = df[\"text\"].apply(lambda x : x.replace(\" w \",\" with \"))\n",
        "df[\"text\"] = df[\"text\"].apply(lambda x : x.replace(\" ... \",\" pointdesuspension \"))\n",
        "df[\"text\"] = df[\"text\"].apply(lambda x : x.replace(\" .. \",\" pointdesuspension \"))\n",
        "df[\"text\"] = df[\"text\"].apply(lambda x : x.replace(\" .... \",\" pointdesuspension \"))\n"
      ],
      "execution_count": 5,
      "outputs": []
    },
    {
      "cell_type": "code",
      "metadata": {
        "id": "LsgpmUNCj-Ra"
      },
      "source": [
        "#truc à garder ou à tester :\n",
        "# les chiffres\n",
        "# les ! et ?\n",
        "# faire gaffe aux ', par exemple aren't ou didn't, qui expriment une négation\n",
        "# http://twitpic\n",
        "# http://bit\n",
        "# http://tinyurl\n",
        "# http://plurk\n",
        "# http://www\n",
        "# http://blip\n",
        "# &lt;3 qui vaut <3\n",
        "# :) ;) :/ mais aussi : ) ou :'(\n",
        "# &amp &gt et &quot qui ont l'air d'être des infos html\n",
        "# w/o without\n",
        "# w/ with\n",
        "# b/c because\n",
        "# ... .. et .... \n"
      ],
      "execution_count": null,
      "outputs": []
    },
    {
      "cell_type": "code",
      "metadata": {
        "id": "J611IpXEkLqh"
      },
      "source": [
        ""
      ],
      "execution_count": null,
      "outputs": []
    },
    {
      "cell_type": "code",
      "metadata": {
        "id": "MIeTllDZkLzE"
      },
      "source": [
        ""
      ],
      "execution_count": null,
      "outputs": []
    },
    {
      "cell_type": "code",
      "metadata": {
        "id": "aPMiTy1ORuSX",
        "outputId": "02fa384e-a499-42e4-e2ed-ab158411bdf0",
        "colab": {
          "base_uri": "https://localhost:8080/",
          "height": 143
        }
      },
      "source": [
        "# Find which words are upper to remove ones whithout info ('I', ...)\n",
        "#df[\"text\"][0] = \"I AAA\"\n",
        "irrelevant_words = ['I']\n",
        "#df[\"redondant\"] = df[\"text\"].apply(lambda x: True if \"I\" in x.split() else False)\n",
        "x = df[\"text\"]\n",
        "for word in irrelevant_words:\n",
        "  x = x.str.replace(word,'')\n",
        "\n",
        "# Check if there is a UPPERCASE word in the series\n",
        "df[\"upper\"] = x.str.split()\n",
        "df[\"upper\"] = df[\"upper\"].apply(lambda x: [i.isupper() for i in x])\n",
        "df[\"upper\"] = df[\"upper\"].apply(lambda x: True if True in x else False)\n",
        "#df[\"upper\"].head()\n",
        "confusion_matrix = pd.crosstab(df[\"target\"], df[\"upper\"], rownames=['target'], colnames=['is any upper'])\n",
        "confusion_matrix/df.shape[0]*100"
      ],
      "execution_count": 6,
      "outputs": [
        {
          "output_type": "execute_result",
          "data": {
            "text/html": [
              "<div>\n",
              "<style scoped>\n",
              "    .dataframe tbody tr th:only-of-type {\n",
              "        vertical-align: middle;\n",
              "    }\n",
              "\n",
              "    .dataframe tbody tr th {\n",
              "        vertical-align: top;\n",
              "    }\n",
              "\n",
              "    .dataframe thead th {\n",
              "        text-align: right;\n",
              "    }\n",
              "</style>\n",
              "<table border=\"1\" class=\"dataframe\">\n",
              "  <thead>\n",
              "    <tr style=\"text-align: right;\">\n",
              "      <th>is any upper</th>\n",
              "      <th>False</th>\n",
              "      <th>True</th>\n",
              "    </tr>\n",
              "    <tr>\n",
              "      <th>target</th>\n",
              "      <th></th>\n",
              "      <th></th>\n",
              "    </tr>\n",
              "  </thead>\n",
              "  <tbody>\n",
              "    <tr>\n",
              "      <th>0</th>\n",
              "      <td>42.258776</td>\n",
              "      <td>7.741192</td>\n",
              "    </tr>\n",
              "    <tr>\n",
              "      <th>4</th>\n",
              "      <td>41.630776</td>\n",
              "      <td>8.369255</td>\n",
              "    </tr>\n",
              "  </tbody>\n",
              "</table>\n",
              "</div>"
            ],
            "text/plain": [
              "is any upper      False     True \n",
              "target                           \n",
              "0             42.258776  7.741192\n",
              "4             41.630776  8.369255"
            ]
          },
          "metadata": {
            "tags": []
          },
          "execution_count": 6
        }
      ]
    },
    {
      "cell_type": "code",
      "metadata": {
        "id": "NWPd-jwVInD7",
        "outputId": "806c3cee-d52b-4382-818b-c34bb7459b7b",
        "colab": {
          "base_uri": "https://localhost:8080/",
          "height": 53
        }
      },
      "source": [
        "#------------------------Eliminate stop words-------------------------------\n",
        "# Put everything to lower\n",
        "df[\"text\"]=df[\"text\"].str.lower()\n",
        "# remove stop_words\n",
        "import nltk\n",
        "from nltk.corpus import stopwords\n",
        "nltk.download('stopwords')\n",
        "irrelevant_words = stopwords.words('english')\n",
        "irrelevant_words.append(\"i\\'m\")\n",
        "df['text'] = df[\"text\"].apply(lambda x: ' '.join([word for word in x.split() if word not in (irrelevant_words)]))\n"
      ],
      "execution_count": 7,
      "outputs": [
        {
          "output_type": "stream",
          "text": [
            "[nltk_data] Downloading package stopwords to /root/nltk_data...\n",
            "[nltk_data]   Unzipping corpora/stopwords.zip.\n"
          ],
          "name": "stdout"
        }
      ]
    },
    {
      "cell_type": "code",
      "metadata": {
        "id": "mwK_Iv1Ge2tB",
        "outputId": "cd0ee70d-ee13-4cda-93c9-ceb6be30a99e",
        "colab": {
          "base_uri": "https://localhost:8080/",
          "height": 36
        }
      },
      "source": [
        "#------------------------Data words Frequency-------------------------------\n",
        "treshhold=0.1\n",
        "dict_frequency=dict(tokenizer.word_counts)\n",
        "col=pd.Series(dict_frequency, name='freq')\n",
        "df_freq=pd.DataFrame(col.sort_values(ascending=False))\n",
        "df_freq.reset_index(drop=False)\n",
        "df_freq=df_freq[df_freq[\"freq\"]>treshhold]\n",
        "df_freq['freq']=df_freq['freq']/df_freq[\"freq\"].sum()*100\n",
        "#Verification\n",
        "#df_freq[\"freq\"].sum()"
      ],
      "execution_count": null,
      "outputs": [
        {
          "output_type": "execute_result",
          "data": {
            "text/plain": [
              "100.00000000000003"
            ]
          },
          "metadata": {
            "tags": []
          },
          "execution_count": 42
        }
      ]
    },
    {
      "cell_type": "code",
      "metadata": {
        "id": "-zBY3YtIgAk2"
      },
      "source": [
        "print(df_freq.head(vocab_size).to_string())"
      ],
      "execution_count": null,
      "outputs": []
    },
    {
      "cell_type": "code",
      "metadata": {
        "id": "4yY18tdIgFTp"
      },
      "source": [
        ""
      ],
      "execution_count": null,
      "outputs": []
    },
    {
      "cell_type": "markdown",
      "metadata": {
        "id": "2y5jBnrXqHaG"
      },
      "source": [
        "#### With all data"
      ]
    },
    {
      "cell_type": "code",
      "metadata": {
        "id": "J6Z9q775GniX"
      },
      "source": [
        "vocab_size = 1000\n",
        "max_len = max(len(train_padded[0]))\n",
        "\n",
        "sentences = df['text']\n",
        "tokenizer = Tokenizer(num_words=vocab_size, oov_token=\"<00V>\", filters='0123456789!\"#$%&()*+,-./:;<=>?@[\\\\]^_{|}~\\t\\n')\n",
        "tokenizer.fit_on_texts(sentences)\n",
        "word_index=tokenizer.word_index\n",
        "sequences=tokenizer.texts_to_sequences(sentences)\n",
        "padded=pad_sequences(sequences,padding=\"post\")"
      ],
      "execution_count": null,
      "outputs": []
    },
    {
      "cell_type": "code",
      "metadata": {
        "id": "XAEoRoEbVYlE"
      },
      "source": [
        ""
      ],
      "execution_count": null,
      "outputs": []
    },
    {
      "cell_type": "markdown",
      "metadata": {
        "id": "n1KeZuGNqK3y"
      },
      "source": [
        "#### Spliting data"
      ]
    },
    {
      "cell_type": "code",
      "metadata": {
        "id": "2Ju_bj2yChFT"
      },
      "source": [
        "vocab_size = 100\n",
        "num_cut = 10000\n",
        "sentences = df['text'][:num_cut]\n",
        "# Split Training and Testing\n",
        "X_train, X_test, y_train, y_test = train_test_split(\n",
        "    df['text'][:num_cut], df[\"target\"][:num_cut], test_size=0.33, random_state=42)\n",
        "tokenizer = Tokenizer(num_words=vocab_size, oov_token=\"<00V>\")\n",
        "tokenizer.fit_on_texts(X_train)\n",
        "word_index=tokenizer.word_index\n",
        "\n",
        "train_sequences=tokenizer.texts_to_sequences(X_train)\n",
        "train_padded=pad_sequences(train_sequences,padding=\"post\", maxlen=229)\n",
        "\n",
        "\n",
        "test_sequences=tokenizer.texts_to_sequences(X_test)\n",
        "test_padded=pad_sequences(test_sequences,padding=\"post\", maxlen=229)"
      ],
      "execution_count": 36,
      "outputs": []
    },
    {
      "cell_type": "code",
      "metadata": {
        "id": "xxxtBeqRfEro"
      },
      "source": [
        "#print(train_padded.shape)\n",
        "max_len = 229"
      ],
      "execution_count": 12,
      "outputs": []
    },
    {
      "cell_type": "code",
      "metadata": {
        "id": "mqAhTM45ViPt",
        "outputId": "ce7b0de8-183d-433a-a850-4e3a62295752",
        "colab": {
          "base_uri": "https://localhost:8080/",
          "height": 35
        }
      },
      "source": [
        "train_padded.shape\n"
      ],
      "execution_count": 37,
      "outputs": [
        {
          "output_type": "execute_result",
          "data": {
            "text/plain": [
              "(6700, 229)"
            ]
          },
          "metadata": {
            "tags": []
          },
          "execution_count": 37
        }
      ]
    },
    {
      "cell_type": "markdown",
      "metadata": {
        "id": "BoywpD3Xtc2Z"
      },
      "source": [
        "#### Model and Training"
      ]
    },
    {
      "cell_type": "code",
      "metadata": {
        "id": "b_YGs2voGUb3"
      },
      "source": [
        "embedding_dim = 16\n",
        "model=tf.keras.Sequential(\n",
        "    [\n",
        "     tf.keras.layers.Embedding(vocab_size,embedding_dim),\n",
        "     tf.keras.layers.GlobalAveragePooling1D(),\n",
        "     tf.keras.layers.Dense(24,activation=\"relu\"),\n",
        "     tf.keras.layers.Dense(1,activation=\"sigmoid\")\n",
        "    ]\n",
        "    )\n",
        "model.compile(loss=\"binary_crossentropy\",optimizer=\"adam\",metrics=[\"accuracy\"])"
      ],
      "execution_count": null,
      "outputs": []
    },
    {
      "cell_type": "code",
      "metadata": {
        "id": "qhwhs3ZwRSfs"
      },
      "source": [
        "model.fit(train_padded,y_train,epochs=10,batch_size=100,validation_data=(test_padded,y_test))"
      ],
      "execution_count": null,
      "outputs": []
    },
    {
      "cell_type": "code",
      "metadata": {
        "id": "UViyJ0a4rA3q",
        "outputId": "a2b96f0d-a7ef-4d79-fa7a-af770d3d2e01",
        "colab": {
          "base_uri": "https://localhost:8080/",
          "height": 35
        }
      },
      "source": [
        ""
      ],
      "execution_count": 13,
      "outputs": [
        {
          "output_type": "execute_result",
          "data": {
            "text/plain": [
              "291560"
            ]
          },
          "metadata": {
            "tags": []
          },
          "execution_count": 13
        }
      ]
    },
    {
      "cell_type": "markdown",
      "metadata": {
        "id": "n6trwdflrBxv"
      },
      "source": [
        "#### LSTM"
      ]
    },
    {
      "cell_type": "code",
      "metadata": {
        "id": "wvSBSFm7UK7_"
      },
      "source": [
        "embedd_size = 300"
      ],
      "execution_count": 16,
      "outputs": []
    },
    {
      "cell_type": "code",
      "metadata": {
        "id": "KDyEBPeSTC73"
      },
      "source": [
        " inputs = keras.layers.Input(name='inputs',shape=[max_len])\n",
        "    \n",
        "x = keras.layers.Embedding(vocab_size,embedd_size,input_length=max_len)(inputs)\n",
        "\n",
        "x = keras.layers.LSTM(512)(x)\n",
        "\n",
        "x = keras.layers.Dense(256,name='FC1')(x)\n",
        "x = keras.layers.Activation('relu')(x)\n",
        "x = keras.layers.Dropout(0.5)(x)\n",
        "\n",
        "x = keras.layers.Dense(128,name='FC2')(x)\n",
        "x = keras.layers.Activation('relu')(x)\n",
        "x = keras.layers.Dropout(0.5)(x)\n",
        "\n",
        "x = keras.layers.Dense(1,name='out_layer')(x)\n",
        "\n",
        "x = keras.layers.Activation('sigmoid')(x)\n",
        "\n",
        "lstm_model = keras.Model(inputs=inputs,outputs=x)"
      ],
      "execution_count": 25,
      "outputs": []
    },
    {
      "cell_type": "code",
      "metadata": {
        "id": "mxvScyuQtDZg",
        "outputId": "f250fda0-45c0-4e4e-8073-1f762a531ed9",
        "colab": {
          "base_uri": "https://localhost:8080/",
          "height": 563
        }
      },
      "source": [
        "lstm_model.summary()\n",
        "\n",
        "lstm_model.compile(loss='binary_crossentropy',optimizer=\"adam\",metrics=['accuracy'])\n"
      ],
      "execution_count": 26,
      "outputs": [
        {
          "output_type": "stream",
          "text": [
            "Model: \"functional_6\"\n",
            "_________________________________________________________________\n",
            "Layer (type)                 Output Shape              Param #   \n",
            "=================================================================\n",
            "inputs (InputLayer)          [(None, 229)]             0         \n",
            "_________________________________________________________________\n",
            "embedding_3 (Embedding)      (None, 229, 300)          300000    \n",
            "_________________________________________________________________\n",
            "lstm_3 (LSTM)                (None, 512)               1665024   \n",
            "_________________________________________________________________\n",
            "FC1 (Dense)                  (None, 256)               131328    \n",
            "_________________________________________________________________\n",
            "activation_7 (Activation)    (None, 256)               0         \n",
            "_________________________________________________________________\n",
            "dropout_4 (Dropout)          (None, 256)               0         \n",
            "_________________________________________________________________\n",
            "FC2 (Dense)                  (None, 128)               32896     \n",
            "_________________________________________________________________\n",
            "activation_8 (Activation)    (None, 128)               0         \n",
            "_________________________________________________________________\n",
            "dropout_5 (Dropout)          (None, 128)               0         \n",
            "_________________________________________________________________\n",
            "out_layer (Dense)            (None, 1)                 129       \n",
            "_________________________________________________________________\n",
            "activation_9 (Activation)    (None, 1)                 0         \n",
            "=================================================================\n",
            "Total params: 2,129,377\n",
            "Trainable params: 2,129,377\n",
            "Non-trainable params: 0\n",
            "_________________________________________________________________\n"
          ],
          "name": "stdout"
        }
      ]
    },
    {
      "cell_type": "code",
      "metadata": {
        "id": "L43xvRGDuJq7",
        "outputId": "3f1d560e-b28f-49ec-ae59-dc5a7b60ec00",
        "colab": {
          "base_uri": "https://localhost:8080/",
          "height": 1000
        }
      },
      "source": [
        "lstm_model.fit(train_padded, y_train, epochs=100, batch_size=16, validation_data=(test_padded,y_test))\n"
      ],
      "execution_count": 39,
      "outputs": [
        {
          "output_type": "stream",
          "text": [
            "Epoch 1/100\n",
            "419/419 [==============================] - 17s 42ms/step - loss: 19274920.0000 - accuracy: 0.0393 - val_loss: 11765246.0000 - val_accuracy: 0.0000e+00\n",
            "Epoch 2/100\n",
            "419/419 [==============================] - 17s 42ms/step - loss: 8266133.5000 - accuracy: 0.2869 - val_loss: 1588694.2500 - val_accuracy: 0.0000e+00\n",
            "Epoch 3/100\n",
            "419/419 [==============================] - 17s 42ms/step - loss: 3488020.7500 - accuracy: 0.5660 - val_loss: 0.0000e+00 - val_accuracy: 1.0000\n",
            "Epoch 4/100\n",
            "419/419 [==============================] - 18s 42ms/step - loss: 1916578.1250 - accuracy: 0.7216 - val_loss: 0.0000e+00 - val_accuracy: 1.0000\n",
            "Epoch 5/100\n",
            "419/419 [==============================] - 17s 42ms/step - loss: 1141439.3750 - accuracy: 0.8190 - val_loss: 0.0000e+00 - val_accuracy: 1.0000\n",
            "Epoch 6/100\n",
            "419/419 [==============================] - 17s 41ms/step - loss: 727089.0000 - accuracy: 0.8718 - val_loss: 0.0000e+00 - val_accuracy: 1.0000\n",
            "Epoch 7/100\n",
            "419/419 [==============================] - 18s 42ms/step - loss: 491060.6875 - accuracy: 0.9049 - val_loss: 0.0000e+00 - val_accuracy: 1.0000\n",
            "Epoch 8/100\n",
            "419/419 [==============================] - 17s 42ms/step - loss: 351083.3438 - accuracy: 0.9270 - val_loss: 0.0000e+00 - val_accuracy: 1.0000\n",
            "Epoch 9/100\n",
            "419/419 [==============================] - 18s 42ms/step - loss: 251794.0312 - accuracy: 0.9421 - val_loss: 0.0000e+00 - val_accuracy: 1.0000\n",
            "Epoch 10/100\n",
            "419/419 [==============================] - 17s 42ms/step - loss: 182511.0156 - accuracy: 0.9578 - val_loss: 0.0000e+00 - val_accuracy: 1.0000\n",
            "Epoch 11/100\n",
            "419/419 [==============================] - 18s 42ms/step - loss: 137570.7969 - accuracy: 0.9658 - val_loss: 0.0000e+00 - val_accuracy: 1.0000\n",
            "Epoch 12/100\n",
            "419/419 [==============================] - 17s 42ms/step - loss: 114870.3359 - accuracy: 0.9734 - val_loss: 0.0000e+00 - val_accuracy: 1.0000\n",
            "Epoch 13/100\n",
            "419/419 [==============================] - 17s 42ms/step - loss: 86096.3281 - accuracy: 0.9758 - val_loss: 0.0000e+00 - val_accuracy: 1.0000\n",
            "Epoch 14/100\n",
            "419/419 [==============================] - 17s 42ms/step - loss: 72473.4688 - accuracy: 0.9824 - val_loss: 0.0000e+00 - val_accuracy: 1.0000\n",
            "Epoch 15/100\n",
            "419/419 [==============================] - 17s 41ms/step - loss: 42648.9883 - accuracy: 0.9860 - val_loss: 0.0000e+00 - val_accuracy: 1.0000\n",
            "Epoch 16/100\n",
            "419/419 [==============================] - 17s 42ms/step - loss: 34209.1055 - accuracy: 0.9881 - val_loss: 0.0000e+00 - val_accuracy: 1.0000\n",
            "Epoch 17/100\n",
            "419/419 [==============================] - 17s 42ms/step - loss: 27584.2031 - accuracy: 0.9910 - val_loss: 0.0000e+00 - val_accuracy: 1.0000\n",
            "Epoch 18/100\n",
            "419/419 [==============================] - 17s 41ms/step - loss: 28000.5391 - accuracy: 0.9916 - val_loss: 0.0000e+00 - val_accuracy: 1.0000\n",
            "Epoch 19/100\n",
            "419/419 [==============================] - 17s 42ms/step - loss: 30509.3613 - accuracy: 0.9918 - val_loss: 0.0000e+00 - val_accuracy: 1.0000\n",
            "Epoch 20/100\n",
            "419/419 [==============================] - 17s 42ms/step - loss: 11094.6162 - accuracy: 0.9945 - val_loss: 0.0000e+00 - val_accuracy: 1.0000\n",
            "Epoch 21/100\n",
            "419/419 [==============================] - 17s 42ms/step - loss: 12060.0537 - accuracy: 0.9952 - val_loss: 0.0000e+00 - val_accuracy: 1.0000\n",
            "Epoch 22/100\n",
            "419/419 [==============================] - 18s 42ms/step - loss: 9147.5527 - accuracy: 0.9966 - val_loss: 0.0000e+00 - val_accuracy: 1.0000\n",
            "Epoch 23/100\n",
            "419/419 [==============================] - 17s 42ms/step - loss: 9604.4590 - accuracy: 0.9966 - val_loss: 0.0000e+00 - val_accuracy: 1.0000\n",
            "Epoch 24/100\n",
            "419/419 [==============================] - 18s 42ms/step - loss: 5787.6465 - accuracy: 0.9970 - val_loss: 0.0000e+00 - val_accuracy: 1.0000\n",
            "Epoch 25/100\n",
            "419/419 [==============================] - 18s 42ms/step - loss: 7107.7378 - accuracy: 0.9976 - val_loss: 0.0000e+00 - val_accuracy: 1.0000\n",
            "Epoch 26/100\n",
            "419/419 [==============================] - 17s 41ms/step - loss: 3086.4128 - accuracy: 0.9987 - val_loss: 0.0000e+00 - val_accuracy: 1.0000\n",
            "Epoch 27/100\n",
            "419/419 [==============================] - 17s 42ms/step - loss: 1351.2515 - accuracy: 0.9988 - val_loss: 0.0000e+00 - val_accuracy: 1.0000\n",
            "Epoch 28/100\n",
            "419/419 [==============================] - 17s 42ms/step - loss: 6052.4990 - accuracy: 0.9982 - val_loss: 0.0000e+00 - val_accuracy: 1.0000\n",
            "Epoch 29/100\n",
            "419/419 [==============================] - 17s 41ms/step - loss: 3304.3862 - accuracy: 0.9984 - val_loss: 0.0000e+00 - val_accuracy: 1.0000\n",
            "Epoch 30/100\n",
            "419/419 [==============================] - 17s 42ms/step - loss: 1609.4872 - accuracy: 0.9984 - val_loss: 0.0000e+00 - val_accuracy: 1.0000\n",
            "Epoch 31/100\n",
            "419/419 [==============================] - 17s 41ms/step - loss: 2312.0010 - accuracy: 0.9991 - val_loss: 0.0000e+00 - val_accuracy: 1.0000\n",
            "Epoch 32/100\n",
            "419/419 [==============================] - 17s 42ms/step - loss: 1594.3108 - accuracy: 0.9991 - val_loss: 0.0000e+00 - val_accuracy: 1.0000\n",
            "Epoch 33/100\n",
            "419/419 [==============================] - 17s 42ms/step - loss: 1348.0034 - accuracy: 0.9996 - val_loss: 0.0000e+00 - val_accuracy: 1.0000\n",
            "Epoch 34/100\n",
            "419/419 [==============================] - 17s 41ms/step - loss: 1442.4569 - accuracy: 0.9994 - val_loss: 0.0000e+00 - val_accuracy: 1.0000\n",
            "Epoch 35/100\n",
            "419/419 [==============================] - 17s 42ms/step - loss: 3340.9353 - accuracy: 0.9990 - val_loss: 0.0000e+00 - val_accuracy: 1.0000\n",
            "Epoch 36/100\n",
            "419/419 [==============================] - 17s 42ms/step - loss: 1333.3123 - accuracy: 0.9996 - val_loss: 0.0000e+00 - val_accuracy: 1.0000\n",
            "Epoch 37/100\n",
            "419/419 [==============================] - 18s 42ms/step - loss: 2510.5417 - accuracy: 0.9991 - val_loss: 0.0000e+00 - val_accuracy: 1.0000\n",
            "Epoch 38/100\n",
            "419/419 [==============================] - 17s 42ms/step - loss: 1053.7679 - accuracy: 0.9996 - val_loss: 0.0000e+00 - val_accuracy: 1.0000\n",
            "Epoch 39/100\n",
            "419/419 [==============================] - 18s 42ms/step - loss: 0.0000e+00 - accuracy: 1.0000 - val_loss: 0.0000e+00 - val_accuracy: 1.0000\n",
            "Epoch 40/100\n",
            "419/419 [==============================] - 18s 42ms/step - loss: 264.1079 - accuracy: 0.9999 - val_loss: 0.0000e+00 - val_accuracy: 1.0000\n",
            "Epoch 41/100\n",
            "419/419 [==============================] - 17s 42ms/step - loss: 784.4498 - accuracy: 0.9997 - val_loss: 0.0000e+00 - val_accuracy: 1.0000\n",
            "Epoch 42/100\n",
            "419/419 [==============================] - 18s 42ms/step - loss: 1602.2721 - accuracy: 0.9994 - val_loss: 0.0000e+00 - val_accuracy: 1.0000\n",
            "Epoch 43/100\n",
            "419/419 [==============================] - 17s 42ms/step - loss: 1322.7440 - accuracy: 0.9993 - val_loss: 0.0000e+00 - val_accuracy: 1.0000\n",
            "Epoch 44/100\n",
            "107/419 [======>.......................] - ETA: 10s - loss: 0.0000e+00 - accuracy: 1.0000"
          ],
          "name": "stdout"
        },
        {
          "output_type": "error",
          "ename": "KeyboardInterrupt",
          "evalue": "ignored",
          "traceback": [
            "\u001b[0;31m---------------------------------------------------------------------------\u001b[0m",
            "\u001b[0;31mKeyboardInterrupt\u001b[0m                         Traceback (most recent call last)",
            "\u001b[0;32m<ipython-input-39-827496bfdeb9>\u001b[0m in \u001b[0;36m<module>\u001b[0;34m()\u001b[0m\n\u001b[0;32m----> 1\u001b[0;31m \u001b[0mlstm_model\u001b[0m\u001b[0;34m.\u001b[0m\u001b[0mfit\u001b[0m\u001b[0;34m(\u001b[0m\u001b[0mtrain_padded\u001b[0m\u001b[0;34m,\u001b[0m \u001b[0my_train\u001b[0m\u001b[0;34m,\u001b[0m \u001b[0mepochs\u001b[0m\u001b[0;34m=\u001b[0m\u001b[0;36m100\u001b[0m\u001b[0;34m,\u001b[0m \u001b[0mbatch_size\u001b[0m\u001b[0;34m=\u001b[0m\u001b[0;36m16\u001b[0m\u001b[0;34m,\u001b[0m \u001b[0mvalidation_data\u001b[0m\u001b[0;34m=\u001b[0m\u001b[0;34m(\u001b[0m\u001b[0mtest_padded\u001b[0m\u001b[0;34m,\u001b[0m\u001b[0my_test\u001b[0m\u001b[0;34m)\u001b[0m\u001b[0;34m)\u001b[0m\u001b[0;34m\u001b[0m\u001b[0;34m\u001b[0m\u001b[0m\n\u001b[0m",
            "\u001b[0;32m/usr/local/lib/python3.6/dist-packages/tensorflow/python/keras/engine/training.py\u001b[0m in \u001b[0;36m_method_wrapper\u001b[0;34m(self, *args, **kwargs)\u001b[0m\n\u001b[1;32m    106\u001b[0m   \u001b[0;32mdef\u001b[0m \u001b[0m_method_wrapper\u001b[0m\u001b[0;34m(\u001b[0m\u001b[0mself\u001b[0m\u001b[0;34m,\u001b[0m \u001b[0;34m*\u001b[0m\u001b[0margs\u001b[0m\u001b[0;34m,\u001b[0m \u001b[0;34m**\u001b[0m\u001b[0mkwargs\u001b[0m\u001b[0;34m)\u001b[0m\u001b[0;34m:\u001b[0m\u001b[0;34m\u001b[0m\u001b[0;34m\u001b[0m\u001b[0m\n\u001b[1;32m    107\u001b[0m     \u001b[0;32mif\u001b[0m \u001b[0;32mnot\u001b[0m \u001b[0mself\u001b[0m\u001b[0;34m.\u001b[0m\u001b[0m_in_multi_worker_mode\u001b[0m\u001b[0;34m(\u001b[0m\u001b[0;34m)\u001b[0m\u001b[0;34m:\u001b[0m  \u001b[0;31m# pylint: disable=protected-access\u001b[0m\u001b[0;34m\u001b[0m\u001b[0;34m\u001b[0m\u001b[0m\n\u001b[0;32m--> 108\u001b[0;31m       \u001b[0;32mreturn\u001b[0m \u001b[0mmethod\u001b[0m\u001b[0;34m(\u001b[0m\u001b[0mself\u001b[0m\u001b[0;34m,\u001b[0m \u001b[0;34m*\u001b[0m\u001b[0margs\u001b[0m\u001b[0;34m,\u001b[0m \u001b[0;34m**\u001b[0m\u001b[0mkwargs\u001b[0m\u001b[0;34m)\u001b[0m\u001b[0;34m\u001b[0m\u001b[0;34m\u001b[0m\u001b[0m\n\u001b[0m\u001b[1;32m    109\u001b[0m \u001b[0;34m\u001b[0m\u001b[0m\n\u001b[1;32m    110\u001b[0m     \u001b[0;31m# Running inside `run_distribute_coordinator` already.\u001b[0m\u001b[0;34m\u001b[0m\u001b[0;34m\u001b[0m\u001b[0;34m\u001b[0m\u001b[0m\n",
            "\u001b[0;32m/usr/local/lib/python3.6/dist-packages/tensorflow/python/keras/engine/training.py\u001b[0m in \u001b[0;36mfit\u001b[0;34m(self, x, y, batch_size, epochs, verbose, callbacks, validation_split, validation_data, shuffle, class_weight, sample_weight, initial_epoch, steps_per_epoch, validation_steps, validation_batch_size, validation_freq, max_queue_size, workers, use_multiprocessing)\u001b[0m\n\u001b[1;32m   1096\u001b[0m                 batch_size=batch_size):\n\u001b[1;32m   1097\u001b[0m               \u001b[0mcallbacks\u001b[0m\u001b[0;34m.\u001b[0m\u001b[0mon_train_batch_begin\u001b[0m\u001b[0;34m(\u001b[0m\u001b[0mstep\u001b[0m\u001b[0;34m)\u001b[0m\u001b[0;34m\u001b[0m\u001b[0;34m\u001b[0m\u001b[0m\n\u001b[0;32m-> 1098\u001b[0;31m               \u001b[0mtmp_logs\u001b[0m \u001b[0;34m=\u001b[0m \u001b[0mtrain_function\u001b[0m\u001b[0;34m(\u001b[0m\u001b[0miterator\u001b[0m\u001b[0;34m)\u001b[0m\u001b[0;34m\u001b[0m\u001b[0;34m\u001b[0m\u001b[0m\n\u001b[0m\u001b[1;32m   1099\u001b[0m               \u001b[0;32mif\u001b[0m \u001b[0mdata_handler\u001b[0m\u001b[0;34m.\u001b[0m\u001b[0mshould_sync\u001b[0m\u001b[0;34m:\u001b[0m\u001b[0;34m\u001b[0m\u001b[0;34m\u001b[0m\u001b[0m\n\u001b[1;32m   1100\u001b[0m                 \u001b[0mcontext\u001b[0m\u001b[0;34m.\u001b[0m\u001b[0masync_wait\u001b[0m\u001b[0;34m(\u001b[0m\u001b[0;34m)\u001b[0m\u001b[0;34m\u001b[0m\u001b[0;34m\u001b[0m\u001b[0m\n",
            "\u001b[0;32m/usr/local/lib/python3.6/dist-packages/tensorflow/python/eager/def_function.py\u001b[0m in \u001b[0;36m__call__\u001b[0;34m(self, *args, **kwds)\u001b[0m\n\u001b[1;32m    778\u001b[0m       \u001b[0;32melse\u001b[0m\u001b[0;34m:\u001b[0m\u001b[0;34m\u001b[0m\u001b[0;34m\u001b[0m\u001b[0m\n\u001b[1;32m    779\u001b[0m         \u001b[0mcompiler\u001b[0m \u001b[0;34m=\u001b[0m \u001b[0;34m\"nonXla\"\u001b[0m\u001b[0;34m\u001b[0m\u001b[0;34m\u001b[0m\u001b[0m\n\u001b[0;32m--> 780\u001b[0;31m         \u001b[0mresult\u001b[0m \u001b[0;34m=\u001b[0m \u001b[0mself\u001b[0m\u001b[0;34m.\u001b[0m\u001b[0m_call\u001b[0m\u001b[0;34m(\u001b[0m\u001b[0;34m*\u001b[0m\u001b[0margs\u001b[0m\u001b[0;34m,\u001b[0m \u001b[0;34m**\u001b[0m\u001b[0mkwds\u001b[0m\u001b[0;34m)\u001b[0m\u001b[0;34m\u001b[0m\u001b[0;34m\u001b[0m\u001b[0m\n\u001b[0m\u001b[1;32m    781\u001b[0m \u001b[0;34m\u001b[0m\u001b[0m\n\u001b[1;32m    782\u001b[0m       \u001b[0mnew_tracing_count\u001b[0m \u001b[0;34m=\u001b[0m \u001b[0mself\u001b[0m\u001b[0;34m.\u001b[0m\u001b[0m_get_tracing_count\u001b[0m\u001b[0;34m(\u001b[0m\u001b[0;34m)\u001b[0m\u001b[0;34m\u001b[0m\u001b[0;34m\u001b[0m\u001b[0m\n",
            "\u001b[0;32m/usr/local/lib/python3.6/dist-packages/tensorflow/python/eager/def_function.py\u001b[0m in \u001b[0;36m_call\u001b[0;34m(self, *args, **kwds)\u001b[0m\n\u001b[1;32m    805\u001b[0m       \u001b[0;31m# In this case we have created variables on the first call, so we run the\u001b[0m\u001b[0;34m\u001b[0m\u001b[0;34m\u001b[0m\u001b[0;34m\u001b[0m\u001b[0m\n\u001b[1;32m    806\u001b[0m       \u001b[0;31m# defunned version which is guaranteed to never create variables.\u001b[0m\u001b[0;34m\u001b[0m\u001b[0;34m\u001b[0m\u001b[0;34m\u001b[0m\u001b[0m\n\u001b[0;32m--> 807\u001b[0;31m       \u001b[0;32mreturn\u001b[0m \u001b[0mself\u001b[0m\u001b[0;34m.\u001b[0m\u001b[0m_stateless_fn\u001b[0m\u001b[0;34m(\u001b[0m\u001b[0;34m*\u001b[0m\u001b[0margs\u001b[0m\u001b[0;34m,\u001b[0m \u001b[0;34m**\u001b[0m\u001b[0mkwds\u001b[0m\u001b[0;34m)\u001b[0m  \u001b[0;31m# pylint: disable=not-callable\u001b[0m\u001b[0;34m\u001b[0m\u001b[0;34m\u001b[0m\u001b[0m\n\u001b[0m\u001b[1;32m    808\u001b[0m     \u001b[0;32melif\u001b[0m \u001b[0mself\u001b[0m\u001b[0;34m.\u001b[0m\u001b[0m_stateful_fn\u001b[0m \u001b[0;32mis\u001b[0m \u001b[0;32mnot\u001b[0m \u001b[0;32mNone\u001b[0m\u001b[0;34m:\u001b[0m\u001b[0;34m\u001b[0m\u001b[0;34m\u001b[0m\u001b[0m\n\u001b[1;32m    809\u001b[0m       \u001b[0;31m# Release the lock early so that multiple threads can perform the call\u001b[0m\u001b[0;34m\u001b[0m\u001b[0;34m\u001b[0m\u001b[0;34m\u001b[0m\u001b[0m\n",
            "\u001b[0;32m/usr/local/lib/python3.6/dist-packages/tensorflow/python/eager/function.py\u001b[0m in \u001b[0;36m__call__\u001b[0;34m(self, *args, **kwargs)\u001b[0m\n\u001b[1;32m   2827\u001b[0m     \u001b[0;32mwith\u001b[0m \u001b[0mself\u001b[0m\u001b[0;34m.\u001b[0m\u001b[0m_lock\u001b[0m\u001b[0;34m:\u001b[0m\u001b[0;34m\u001b[0m\u001b[0;34m\u001b[0m\u001b[0m\n\u001b[1;32m   2828\u001b[0m       \u001b[0mgraph_function\u001b[0m\u001b[0;34m,\u001b[0m \u001b[0margs\u001b[0m\u001b[0;34m,\u001b[0m \u001b[0mkwargs\u001b[0m \u001b[0;34m=\u001b[0m \u001b[0mself\u001b[0m\u001b[0;34m.\u001b[0m\u001b[0m_maybe_define_function\u001b[0m\u001b[0;34m(\u001b[0m\u001b[0margs\u001b[0m\u001b[0;34m,\u001b[0m \u001b[0mkwargs\u001b[0m\u001b[0;34m)\u001b[0m\u001b[0;34m\u001b[0m\u001b[0;34m\u001b[0m\u001b[0m\n\u001b[0;32m-> 2829\u001b[0;31m     \u001b[0;32mreturn\u001b[0m \u001b[0mgraph_function\u001b[0m\u001b[0;34m.\u001b[0m\u001b[0m_filtered_call\u001b[0m\u001b[0;34m(\u001b[0m\u001b[0margs\u001b[0m\u001b[0;34m,\u001b[0m \u001b[0mkwargs\u001b[0m\u001b[0;34m)\u001b[0m  \u001b[0;31m# pylint: disable=protected-access\u001b[0m\u001b[0;34m\u001b[0m\u001b[0;34m\u001b[0m\u001b[0m\n\u001b[0m\u001b[1;32m   2830\u001b[0m \u001b[0;34m\u001b[0m\u001b[0m\n\u001b[1;32m   2831\u001b[0m   \u001b[0;34m@\u001b[0m\u001b[0mproperty\u001b[0m\u001b[0;34m\u001b[0m\u001b[0;34m\u001b[0m\u001b[0m\n",
            "\u001b[0;32m/usr/local/lib/python3.6/dist-packages/tensorflow/python/eager/function.py\u001b[0m in \u001b[0;36m_filtered_call\u001b[0;34m(self, args, kwargs, cancellation_manager)\u001b[0m\n\u001b[1;32m   1846\u001b[0m                            resource_variable_ops.BaseResourceVariable))],\n\u001b[1;32m   1847\u001b[0m         \u001b[0mcaptured_inputs\u001b[0m\u001b[0;34m=\u001b[0m\u001b[0mself\u001b[0m\u001b[0;34m.\u001b[0m\u001b[0mcaptured_inputs\u001b[0m\u001b[0;34m,\u001b[0m\u001b[0;34m\u001b[0m\u001b[0;34m\u001b[0m\u001b[0m\n\u001b[0;32m-> 1848\u001b[0;31m         cancellation_manager=cancellation_manager)\n\u001b[0m\u001b[1;32m   1849\u001b[0m \u001b[0;34m\u001b[0m\u001b[0m\n\u001b[1;32m   1850\u001b[0m   \u001b[0;32mdef\u001b[0m \u001b[0m_call_flat\u001b[0m\u001b[0;34m(\u001b[0m\u001b[0mself\u001b[0m\u001b[0;34m,\u001b[0m \u001b[0margs\u001b[0m\u001b[0;34m,\u001b[0m \u001b[0mcaptured_inputs\u001b[0m\u001b[0;34m,\u001b[0m \u001b[0mcancellation_manager\u001b[0m\u001b[0;34m=\u001b[0m\u001b[0;32mNone\u001b[0m\u001b[0;34m)\u001b[0m\u001b[0;34m:\u001b[0m\u001b[0;34m\u001b[0m\u001b[0;34m\u001b[0m\u001b[0m\n",
            "\u001b[0;32m/usr/local/lib/python3.6/dist-packages/tensorflow/python/eager/function.py\u001b[0m in \u001b[0;36m_call_flat\u001b[0;34m(self, args, captured_inputs, cancellation_manager)\u001b[0m\n\u001b[1;32m   1922\u001b[0m       \u001b[0;31m# No tape is watching; skip to running the function.\u001b[0m\u001b[0;34m\u001b[0m\u001b[0;34m\u001b[0m\u001b[0;34m\u001b[0m\u001b[0m\n\u001b[1;32m   1923\u001b[0m       return self._build_call_outputs(self._inference_function.call(\n\u001b[0;32m-> 1924\u001b[0;31m           ctx, args, cancellation_manager=cancellation_manager))\n\u001b[0m\u001b[1;32m   1925\u001b[0m     forward_backward = self._select_forward_and_backward_functions(\n\u001b[1;32m   1926\u001b[0m         \u001b[0margs\u001b[0m\u001b[0;34m,\u001b[0m\u001b[0;34m\u001b[0m\u001b[0;34m\u001b[0m\u001b[0m\n",
            "\u001b[0;32m/usr/local/lib/python3.6/dist-packages/tensorflow/python/eager/function.py\u001b[0m in \u001b[0;36mcall\u001b[0;34m(self, ctx, args, cancellation_manager)\u001b[0m\n\u001b[1;32m    548\u001b[0m               \u001b[0minputs\u001b[0m\u001b[0;34m=\u001b[0m\u001b[0margs\u001b[0m\u001b[0;34m,\u001b[0m\u001b[0;34m\u001b[0m\u001b[0;34m\u001b[0m\u001b[0m\n\u001b[1;32m    549\u001b[0m               \u001b[0mattrs\u001b[0m\u001b[0;34m=\u001b[0m\u001b[0mattrs\u001b[0m\u001b[0;34m,\u001b[0m\u001b[0;34m\u001b[0m\u001b[0;34m\u001b[0m\u001b[0m\n\u001b[0;32m--> 550\u001b[0;31m               ctx=ctx)\n\u001b[0m\u001b[1;32m    551\u001b[0m         \u001b[0;32melse\u001b[0m\u001b[0;34m:\u001b[0m\u001b[0;34m\u001b[0m\u001b[0;34m\u001b[0m\u001b[0m\n\u001b[1;32m    552\u001b[0m           outputs = execute.execute_with_cancellation(\n",
            "\u001b[0;32m/usr/local/lib/python3.6/dist-packages/tensorflow/python/eager/execute.py\u001b[0m in \u001b[0;36mquick_execute\u001b[0;34m(op_name, num_outputs, inputs, attrs, ctx, name)\u001b[0m\n\u001b[1;32m     58\u001b[0m     \u001b[0mctx\u001b[0m\u001b[0;34m.\u001b[0m\u001b[0mensure_initialized\u001b[0m\u001b[0;34m(\u001b[0m\u001b[0;34m)\u001b[0m\u001b[0;34m\u001b[0m\u001b[0;34m\u001b[0m\u001b[0m\n\u001b[1;32m     59\u001b[0m     tensors = pywrap_tfe.TFE_Py_Execute(ctx._handle, device_name, op_name,\n\u001b[0;32m---> 60\u001b[0;31m                                         inputs, attrs, num_outputs)\n\u001b[0m\u001b[1;32m     61\u001b[0m   \u001b[0;32mexcept\u001b[0m \u001b[0mcore\u001b[0m\u001b[0;34m.\u001b[0m\u001b[0m_NotOkStatusException\u001b[0m \u001b[0;32mas\u001b[0m \u001b[0me\u001b[0m\u001b[0;34m:\u001b[0m\u001b[0;34m\u001b[0m\u001b[0;34m\u001b[0m\u001b[0m\n\u001b[1;32m     62\u001b[0m     \u001b[0;32mif\u001b[0m \u001b[0mname\u001b[0m \u001b[0;32mis\u001b[0m \u001b[0;32mnot\u001b[0m \u001b[0;32mNone\u001b[0m\u001b[0;34m:\u001b[0m\u001b[0;34m\u001b[0m\u001b[0;34m\u001b[0m\u001b[0m\n",
            "\u001b[0;31mKeyboardInterrupt\u001b[0m: "
          ]
        }
      ]
    },
    {
      "cell_type": "code",
      "metadata": {
        "id": "qM_x4Zo1Upf9",
        "outputId": "9d9a95c9-535c-43c2-d4a7-4ff4c9047ce3",
        "colab": {
          "base_uri": "https://localhost:8080/",
          "height": 164
        }
      },
      "source": [
        "lstm_model.save('./weights')"
      ],
      "execution_count": 42,
      "outputs": [
        {
          "output_type": "stream",
          "text": [
            "WARNING:tensorflow:From /usr/local/lib/python3.6/dist-packages/tensorflow/python/training/tracking/tracking.py:111: Model.state_updates (from tensorflow.python.keras.engine.training) is deprecated and will be removed in a future version.\n",
            "Instructions for updating:\n",
            "This property should not be used in TensorFlow 2.0, as updates are applied automatically.\n",
            "WARNING:tensorflow:From /usr/local/lib/python3.6/dist-packages/tensorflow/python/training/tracking/tracking.py:111: Layer.updates (from tensorflow.python.keras.engine.base_layer) is deprecated and will be removed in a future version.\n",
            "Instructions for updating:\n",
            "This property should not be used in TensorFlow 2.0, as updates are applied automatically.\n",
            "INFO:tensorflow:Assets written to: ./weights/assets\n"
          ],
          "name": "stdout"
        }
      ]
    }
  ]
}